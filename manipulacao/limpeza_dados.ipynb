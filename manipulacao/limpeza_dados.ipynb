{
  "nbformat": 4,
  "nbformat_minor": 0,
  "metadata": {
    "colab": {
      "provenance": [],
      "authorship_tag": "ABX9TyMxGb+y1VvH36ozYLJJOldd",
      "include_colab_link": true
    },
    "kernelspec": {
      "name": "python3",
      "display_name": "Python 3"
    },
    "language_info": {
      "name": "python"
    }
  },
  "cells": [
    {
      "cell_type": "markdown",
      "metadata": {
        "id": "view-in-github",
        "colab_type": "text"
      },
      "source": [
        "<a href=\"https://colab.research.google.com/github/ufrpe-machine-learning-2023/projeto-ml-2023/blob/main/manipulacao/limpeza_dados.ipynb\" target=\"_parent\"><img src=\"https://colab.research.google.com/assets/colab-badge.svg\" alt=\"Open In Colab\"/></a>"
      ]
    },
    {
      "cell_type": "code",
      "execution_count": 1,
      "metadata": {
        "colab": {
          "base_uri": "https://localhost:8080/"
        },
        "id": "twLycG7Y9bsH",
        "outputId": "d8bc00a3-cfa2-4d80-ecec-b46ce150a501"
      },
      "outputs": [
        {
          "output_type": "stream",
          "name": "stdout",
          "text": [
            "Cloning into 'projeto-ml-2023'...\n",
            "remote: Enumerating objects: 54, done.\u001b[K\n",
            "remote: Counting objects: 100% (54/54), done.\u001b[K\n",
            "remote: Compressing objects: 100% (46/46), done.\u001b[K\n",
            "remote: Total 54 (delta 6), reused 0 (delta 0), pack-reused 0\u001b[K\n",
            "Receiving objects: 100% (54/54), 8.63 MiB | 15.46 MiB/s, done.\n",
            "Resolving deltas: 100% (6/6), done.\n"
          ]
        }
      ],
      "source": [
        "!git clone https://github.com/ufrpe-machine-learning-2023/projeto-ml-2023.git"
      ]
    },
    {
      "cell_type": "code",
      "source": [
        "import pandas as pd"
      ],
      "metadata": {
        "id": "JdO046rODBTS"
      },
      "execution_count": 3,
      "outputs": []
    },
    {
      "cell_type": "code",
      "source": [
        "#Importando datasets\n",
        "years = [7,8,9,10,11,12,13,14,15,16,17,18,19,20,21,22]\n",
        "cleanup_spreadsheet = []\n",
        "\n",
        "for year in years:\n",
        "  spreadsheet = pd.read_excel(f'/content/projeto-ml-2023/dados/Dados/{2000+year}.xlsx')\n",
        "\n",
        "  spreadsheet = spreadsheet[12:-11]\n",
        "\n",
        "  spreadsheet.columns = [\"regiao\", \"unidade_da_federacao\", \"municipio\", \"codigo_municipio\", \"total\", \"total_f\", \"f1\",\n",
        "                  \"f2\", \"f3\", \"f4\", \"f5\", \"f6\", \"f7\", \"total_m\", \"f1m\", \"f2m\", \"f3m\", \"f4m\", \"f5m\", \"f6m\", \"f7m\"]\n",
        "\n",
        "  condition = spreadsheet['municipio'] == '  '\n",
        "  spreadsheet = spreadsheet.drop(spreadsheet[condition].index)\n",
        "  spreadsheet = spreadsheet.reset_index()\n",
        "\n",
        "  cleanup_spreadsheet.append(spreadsheet)"
      ],
      "metadata": {
        "id": "04sktmpLC07s"
      },
      "execution_count": 48,
      "outputs": []
    },
    {
      "cell_type": "code",
      "source": [
        "condition = spreadsheet['municipio'] == '  '\n",
        "spreadsheet = spreadsheet.drop(spreadsheet[condition].index)\n",
        "spreadsheet = spreadsheet.reset_index()"
      ],
      "metadata": {
        "id": "TAA1BqO6zbcq"
      },
      "execution_count": 43,
      "outputs": []
    },
    {
      "cell_type": "code",
      "source": [
        "cleanup_spreadsheet"
      ],
      "metadata": {
        "id": "2Wo6Hgs_xCYa"
      },
      "execution_count": null,
      "outputs": []
    }
  ]
}